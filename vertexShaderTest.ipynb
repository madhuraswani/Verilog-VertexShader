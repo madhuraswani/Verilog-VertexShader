{
 "cells": [
  {
   "cell_type": "code",
   "execution_count": 1,
   "metadata": {},
   "outputs": [
    {
     "name": "stdout",
     "output_type": "stream",
     "text": [
      "Model Matrix:\n",
      " tensor([[ 1.4142,  0.0000,  1.4142,  2.0000],\n",
      "        [ 0.0000,  2.0000,  0.0000,  3.0000],\n",
      "        [-1.4142,  0.0000,  1.4142,  4.0000],\n",
      "        [ 0.0000,  0.0000,  0.0000,  1.0000]])\n"
     ]
    }
   ],
   "source": [
    "import torch\n",
    "import math\n",
    "\n",
    "def create_model_matrix(translation, rotation, scale):\n",
    "    tx, ty, tz = translation\n",
    "    rx, ry, rz = rotation\n",
    "    sx, sy, sz = scale\n",
    "    \n",
    "    # Translation Matrix\n",
    "    T = torch.eye(4)\n",
    "    T[0, 3] = tx\n",
    "    T[1, 3] = ty\n",
    "    T[2, 3] = tz\n",
    "    \n",
    "    # Rotation Matrices (around x, y, z axes)\n",
    "    Rx = torch.tensor([\n",
    "        [1, 0, 0, 0],\n",
    "        [0, math.cos(rx), -math.sin(rx), 0],\n",
    "        [0, math.sin(rx), math.cos(rx), 0],\n",
    "        [0, 0, 0, 1]\n",
    "    ])\n",
    "    \n",
    "    Ry = torch.tensor([\n",
    "        [math.cos(ry), 0, math.sin(ry), 0],\n",
    "        [0, 1, 0, 0],\n",
    "        [-math.sin(ry), 0, math.cos(ry), 0],\n",
    "        [0, 0, 0, 1]\n",
    "    ])\n",
    "    \n",
    "    Rz = torch.tensor([\n",
    "        [math.cos(rz), -math.sin(rz), 0, 0],\n",
    "        [math.sin(rz), math.cos(rz), 0, 0],\n",
    "        [0, 0, 1, 0],\n",
    "        [0, 0, 0, 1]\n",
    "    ])\n",
    "    \n",
    "    # Combined Rotation Matrix\n",
    "    R = torch.matmul(torch.matmul(Rz, Ry), Rx)\n",
    "    \n",
    "    # Scaling Matrix\n",
    "    S = torch.diag(torch.tensor([sx, sy, sz, 1.0]))\n",
    "    \n",
    "    # Model Matrix: M_model = T * R * S\n",
    "    M_model = torch.matmul(torch.matmul(T, R), S)\n",
    "    \n",
    "    return M_model\n",
    "\n",
    "# Example Usage:\n",
    "translation = (2, 3, 4)\n",
    "rotation = (0, math.radians(45), 0)  # Convert degrees to radians for y-axis\n",
    "scale = (2, 2, 2)\n",
    "M_model = create_model_matrix(translation, rotation, scale)\n",
    "print(\"Model Matrix:\\n\", M_model)\n"
   ]
  },
  {
   "cell_type": "code",
   "execution_count": 8,
   "metadata": {},
   "outputs": [
    {
     "name": "stdout",
     "output_type": "stream",
     "text": [
      "View Matrix:\n",
      " tensor([[  0.8944,   0.0000,  -0.4472,  -0.0000],\n",
      "        [ -0.1826,   0.9129,  -0.3651,  -0.0000],\n",
      "        [  0.4082,   0.4082,   0.8165, -12.2474],\n",
      "        [  0.0000,   0.0000,   0.0000,   1.0000]])\n"
     ]
    }
   ],
   "source": [
    "def create_view_matrix(eye, target, up):\n",
    "    eye = torch.tensor(eye,dtype = torch.float32)\n",
    "    target = torch.tensor(target,dtype = torch.float32)\n",
    "    up = torch.tensor(up,dtype = torch.float32)\n",
    "    \n",
    "    # Forward vector (normalized)\n",
    "    f = (target - eye)\n",
    "    f = f / torch.norm(f)\n",
    "    \n",
    "    # Right vector (normalized)\n",
    "    r = torch.cross(f, up)\n",
    "    r = r / torch.norm(r)\n",
    "    \n",
    "    # Up vector (recompute to ensure orthogonality)\n",
    "    u = torch.cross(r, f)\n",
    "    \n",
    "    # View Matrix\n",
    "    M_view = torch.eye(4)\n",
    "    M_view[0, 0:3] = r\n",
    "    M_view[1, 0:3] = u\n",
    "    M_view[2, 0:3] = -f\n",
    "    M_view[0, 3] = -torch.dot(r, eye)\n",
    "    M_view[1, 3] = -torch.dot(u, eye)\n",
    "    M_view[2, 3] = torch.dot(f, eye)\n",
    "    \n",
    "    return M_view\n",
    "\n",
    "# Example Usage:\n",
    "eye = (5, 5, 10)\n",
    "target = (0, 0, 0)\n",
    "up = (0, 1, 0)\n",
    "M_view = create_view_matrix(eye, target, up)\n",
    "print(\"View Matrix:\\n\", M_view)\n"
   ]
  },
  {
   "cell_type": "code",
   "execution_count": 9,
   "metadata": {},
   "outputs": [
    {
     "name": "stdout",
     "output_type": "stream",
     "text": [
      "Projection Matrix:\n",
      " tensor([[ 0.9743,  0.0000,  0.0000,  0.0000],\n",
      "        [ 0.0000,  1.7321,  0.0000,  0.0000],\n",
      "        [ 0.0000,  0.0000, -1.0020, -0.2002],\n",
      "        [ 0.0000,  0.0000, -1.0000,  0.0000]])\n"
     ]
    }
   ],
   "source": [
    "def create_projection_matrix(fov, aspect, near, far):\n",
    "    f = 1.0 / math.tan(math.radians(fov) / 2.0)\n",
    "    \n",
    "    M_proj = torch.tensor([\n",
    "        [f / aspect, 0, 0, 0],\n",
    "        [0, f, 0, 0],\n",
    "        [0, 0, (far + near) / (near - far), (2 * far * near) / (near - far)],\n",
    "        [0, 0, -1, 0]\n",
    "    ])\n",
    "    \n",
    "    return M_proj\n",
    "\n",
    "# Example Usage:\n",
    "fov = 60.0  # degrees\n",
    "aspect_ratio = 16.0 / 9.0\n",
    "near = 0.1\n",
    "far = 100.0\n",
    "M_proj = create_projection_matrix(fov, aspect_ratio, near, far)\n",
    "print(\"Projection Matrix:\\n\", M_proj)\n"
   ]
  },
  {
   "cell_type": "code",
   "execution_count": 12,
   "metadata": {},
   "outputs": [
    {
     "name": "stdout",
     "output_type": "stream",
     "text": [
      "Vertex in Clip Space:\n",
      " tensor([2.4648, 3.8490, 4.7788, 4.9690])\n",
      "Clip Cordinates to NIC Cordinates:tensor([0.4960, 0.7746, 0.9617])\n"
     ]
    }
   ],
   "source": [
    "# Example vertex in local space (homogeneous coordinates)\n",
    "v_local = torch.tensor([1.0, 1.0, 1.0, 1.0])  # (x, y, z, w)\n",
    "\n",
    "# Model to World\n",
    "v_world = torch.matmul(M_model, v_local)\n",
    "\n",
    "# World to View\n",
    "v_view = torch.matmul(M_view, v_world)\n",
    "\n",
    "# View to Clip\n",
    "v_clip = torch.matmul(M_proj, v_view)\n",
    "\n",
    "print(\"Vertex in Clip Space:\\n\", v_clip)\n",
    "print(f\"Clip Cordinates to NIC Cordinates:{v_clip[:3]/v_clip[3]}\")\n"
   ]
  }
 ],
 "metadata": {
  "kernelspec": {
   "display_name": "Python 3",
   "language": "python",
   "name": "python3"
  },
  "language_info": {
   "codemirror_mode": {
    "name": "ipython",
    "version": 3
   },
   "file_extension": ".py",
   "mimetype": "text/x-python",
   "name": "python",
   "nbconvert_exporter": "python",
   "pygments_lexer": "ipython3",
   "version": "3.11.6"
  }
 },
 "nbformat": 4,
 "nbformat_minor": 2
}
